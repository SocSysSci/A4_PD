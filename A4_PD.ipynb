{
  "nbformat": 4,
  "nbformat_minor": 0,
  "metadata": {
    "kernelspec": {
      "display_name": "Python 3",
      "language": "python",
      "name": "python3"
    },
    "language_info": {
      "codemirror_mode": {
        "name": "ipython",
        "version": 3
      },
      "file_extension": ".py",
      "mimetype": "text/x-python",
      "name": "python",
      "nbconvert_exporter": "python",
      "pygments_lexer": "ipython3",
      "version": "3.7.1"
    },
    "colab": {
      "name": "SocSysSci_05_PD.ipynb",
      "provenance": [],
      "collapsed_sections": []
    }
  },
  "cells": [
    {
      "cell_type": "code",
      "metadata": {
        "id": "gzArUODIYAMT"
      },
      "source": [
        "import random\n",
        "import matplotlib.pyplot as plt\n",
        "import numpy as np"
      ],
      "execution_count": null,
      "outputs": []
    },
    {
      "cell_type": "markdown",
      "metadata": {
        "id": "2JVgpbYLww8r"
      },
      "source": [
        "### 利得表"
      ]
    },
    {
      "cell_type": "code",
      "metadata": {
        "id": "VGAvhbYsYAMZ"
      },
      "source": [
        "COOPERATE = 0\n",
        "DEFECT = 1\n",
        "PAYOFF = [\n",
        "    [-2, -10],\n",
        "    [ 0,  -7]\n",
        "]"
      ],
      "execution_count": null,
      "outputs": []
    },
    {
      "cell_type": "markdown",
      "metadata": {
        "id": "hXHMfhBpw9PF"
      },
      "source": [
        "### 準備（クラス）"
      ]
    },
    {
      "cell_type": "code",
      "metadata": {
        "id": "PiyupszmYAMd"
      },
      "source": [
        "class Player:\n",
        "    def __init__(self):\n",
        "        self.hist = []\n",
        "        self.point = 0\n",
        "        \n",
        "    def choose(self, opponent):\n",
        "        return COOPERATE\n",
        "    \n",
        "    def register_result(self, choice, point):\n",
        "        self.hist.append(choice)\n",
        "        self.point += point"
      ],
      "execution_count": null,
      "outputs": []
    },
    {
      "cell_type": "markdown",
      "metadata": {
        "id": "5zqcgVGoxI0u"
      },
      "source": [
        "### 様々なプレイヤー"
      ]
    },
    {
      "cell_type": "code",
      "metadata": {
        "id": "R-fqeHq-YAMf"
      },
      "source": [
        "class CooperatePlayer(Player):\n",
        "    def choose(self, opponent):\n",
        "        return COOPERATE"
      ],
      "execution_count": null,
      "outputs": []
    },
    {
      "cell_type": "code",
      "metadata": {
        "id": "w1aVRe1NYAMh"
      },
      "source": [
        "class DefectPlayer(Player):\n",
        "    def choose(self, opponent):\n",
        "        return DEFECT"
      ],
      "execution_count": null,
      "outputs": []
    },
    {
      "cell_type": "code",
      "metadata": {
        "id": "E2phxXbNYAMj"
      },
      "source": [
        "class TftPlayer(Player):\n",
        "    def choose(self, opponent):\n",
        "        my_choice = COOPERATE\n",
        "        if 0 < len(opponent.hist):\n",
        "            my_choice = opponent.hist[-1]\n",
        "        return my_choice"
      ],
      "execution_count": null,
      "outputs": []
    },
    {
      "cell_type": "code",
      "metadata": {
        "id": "ItsnnBPKYAMk"
      },
      "source": [
        "class Tf2tPlayer(Player):\n",
        "    def choose(self, opponent):\n",
        "        my_choice = COOPERATE\n",
        "        if 1 < len(opponent.hist) and opponent.hist[-2] == DEFECT and opponent.hist[-1] == DEFECT:\n",
        "            my_choice = DEFECT\n",
        "        return my_choice"
      ],
      "execution_count": null,
      "outputs": []
    },
    {
      "cell_type": "code",
      "metadata": {
        "id": "ZwbJBbn3YAMl"
      },
      "source": [
        "class Friedman(Player):\n",
        "    def choose(self, opponent):\n",
        "        my_choice = COOPERATE\n",
        "        if DEFECT in opponent.hist:\n",
        "            my_choice = DEFECT\n",
        "        return my_choice"
      ],
      "execution_count": null,
      "outputs": []
    },
    {
      "cell_type": "code",
      "metadata": {
        "id": "aj8O7_C6YAMm"
      },
      "source": [
        "class Joss(Player):\n",
        "    def choose(self, opponent):\n",
        "        my_choice = COOPERATE\n",
        "        if 0 < len(opponent.hist):\n",
        "            if opponent.hist[-1] == DEFECT:\n",
        "                my_choice = DEFECT\n",
        "            elif random.random() < 0.1:\n",
        "                my_choice = DEFECT\n",
        "        return my_choice"
      ],
      "execution_count": null,
      "outputs": []
    },
    {
      "cell_type": "code",
      "metadata": {
        "id": "UZJSlqD-YAMn"
      },
      "source": [
        "class RandomPlayer(Player):\n",
        "    def choose(self, opponent):\n",
        "        my_choice = random.randint(0,1)\n",
        "        return my_choice"
      ],
      "execution_count": null,
      "outputs": []
    },
    {
      "cell_type": "markdown",
      "metadata": {
        "id": "PaezcUX3xfQ9"
      },
      "source": [
        "### 1回ゲームの定義"
      ]
    },
    {
      "cell_type": "code",
      "metadata": {
        "id": "O-0BWM1oYAMn"
      },
      "source": [
        "def one_game(p1, p2):\n",
        "    choice_A = p1.choose(p2)\n",
        "    choice_B = p2.choose(p1)\n",
        "    p1.register_result(choice_A, PAYOFF[choice_A][choice_B])\n",
        "    p2.register_result(choice_B, PAYOFF[choice_B][choice_A])"
      ],
      "execution_count": null,
      "outputs": []
    },
    {
      "cell_type": "markdown",
      "metadata": {
        "id": "BPpi42KGxkaV"
      },
      "source": [
        "### 繰り返しゲームの定義"
      ]
    },
    {
      "cell_type": "code",
      "metadata": {
        "id": "HDsdlmBkYAMo"
      },
      "source": [
        "def iter_game(num, p1, p2):\n",
        "    for n in range(num):\n",
        "        one_game(p1, p2)"
      ],
      "execution_count": null,
      "outputs": []
    },
    {
      "cell_type": "markdown",
      "metadata": {
        "id": "HqZ7z3hvxm_-"
      },
      "source": [
        "### 対戦シミュレーション"
      ]
    },
    {
      "cell_type": "code",
      "metadata": {
        "id": "xZwHCTHTYAMp"
      },
      "source": [
        "p1 = Friedman()\n",
        "p2 = TftPlayer()\n",
        "iter_game(10, p1, p2)\n",
        "print(\"P1: \", p1.point)\n",
        "print(\"P2: \", p2.point)"
      ],
      "execution_count": null,
      "outputs": []
    }
  ]
}